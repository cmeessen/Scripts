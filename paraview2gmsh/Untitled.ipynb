{
 "cells": [
  {
   "cell_type": "code",
   "execution_count": 1,
   "metadata": {},
   "outputs": [
    {
     "name": "stdout",
     "output_type": "stream",
     "text": [
      "Processing ./example2/profile0.csv\n",
      "> adding points\n",
      "> creating lines\n",
      "> creating line loops\n",
      "> creating surface\n",
      "> assigning physcial surface name layer0\n",
      "Processing ./example2/profile1.csv\n",
      "> adding points\n",
      "> creating lines\n",
      "> creating line loops\n",
      "> creating surface\n",
      "> assigning physcial surface name layer1\n",
      "Processing ./example2/profile2.csv\n",
      "> adding points\n",
      "> creating lines\n",
      "> creating line loops\n",
      "> creating surface\n",
      "> assigning physcial surface name layer2\n",
      "Processing ./example2/profile3.csv\n",
      "> adding points\n",
      "> creating lines\n",
      "> creating line loops\n",
      "> creating surface\n",
      "> assigning physcial surface name layer3\n",
      "Processing ./example2/profile4.csv\n",
      "> adding points\n",
      "> creating lines\n",
      "> creating line loops\n",
      "> creating surface\n",
      "> assigning physcial surface name layer4\n",
      "Processing ./example2/profile5.csv\n",
      "> adding points\n",
      "> creating lines\n",
      "> creating line loops\n",
      "> creating surface\n",
      "> assigning physcial surface name layer5\n",
      "Processing ./example2/profile6.csv\n",
      "> adding points\n",
      "> creating lines\n",
      "> creating line loops\n",
      "> creating surface\n",
      "> assigning physcial surface name layer6\n",
      "Processing ./example2/profile7.csv\n",
      "> adding points\n",
      "> creating lines\n",
      "> creating line loops\n",
      "> creating surface\n",
      "> assigning physcial surface name layer7\n"
     ]
    }
   ],
   "source": [
    "import sys\n",
    "import numpy as np\n",
    "from collections import OrderedDict\n",
    "from paraview2gmsh import process\n",
    "import pygmsh as pg\n",
    "\n",
    "layers = OrderedDict()\n",
    "BCs = dict()\n",
    "\n",
    "for i in range(8):\n",
    "    name = 'layer' + str(i)\n",
    "    layers[name] = './example2/profile'+str(i)+'.csv'\n",
    "#layers['l0']='./profile0.csv'\n",
    "#BCs['layer0'] = 'upper'\n",
    "#BCs['layer7'] = 'lower'\n",
    "lcar = 10e3  # Characteristic length\n",
    "\n",
    "geo = 'example.geo'\n",
    "\n",
    "mesh = process(layers, BCs, lcar, geo, vscale=1)\n"
   ]
  },
  {
   "cell_type": "code",
   "execution_count": 2,
   "metadata": {},
   "outputs": [],
   "source": [
    "def process(layers, BCs, lcar, geo, vscale=1):\n",
    "    \"\"\"\n",
    "    Start the conversion process.\n",
    "\n",
    "    Parameters\n",
    "    ----------\n",
    "    layers : collections.OrderedDict\n",
    "        Ordered dictionary with {layername:file}. Should be ordered from top to\n",
    "        bottom\n",
    "    BCs : dict\n",
    "        Defines the layers where boundary conditions are {layername:BC} where\n",
    "        BC either `upper` or `lower`\n",
    "    lcar : float\n",
    "        The characteristic length defining the resolution\n",
    "    geo : str\n",
    "        Output file name\n",
    "    vscale : float\n",
    "        Scale the data z-axis by this value.\n",
    "    \"\"\"\n",
    "    geom = pg.built_in.Geometry()\n",
    "    geom.add_raw_code('Geometry.AutoCoherence = 2;')\n",
    "\n",
    "    line_BC_left = []\n",
    "    line_BC_right = []\n",
    "    # Obtain the layer polygons\n",
    "    for layer in layers.keys():\n",
    "        if layer in BCs.keys():\n",
    "            BC = BCs[layer]\n",
    "        else:\n",
    "            BC = None\n",
    "        left, right = add_surface(layers[layer], layer, geom, lcar, BC, vscale)\n",
    "        line_BC_left.append(left)\n",
    "        line_BC_right.append(right)\n",
    "    geom.add_physical_line(line_BC_left, label='Left')\n",
    "    #geom.add_physical_line(line_BC_right, label='Right')"
   ]
  },
  {
   "cell_type": "code",
   "execution_count": 7,
   "metadata": {},
   "outputs": [
    {
     "name": "stdout",
     "output_type": "stream",
     "text": [
      "> adding points\n",
      "> creating lines\n",
      "> creating line loops\n",
      "> creating surface\n",
      "> assigning physcial surface name layer7\n"
     ]
    }
   ],
   "source": [
    "filename='./example2/profile0.csv'\n",
    "geom = pg.built_in.Geometry()\n",
    "vscale=1\n",
    "vertical_offset=0\n",
    "BC=None\n",
    "lcar=1\n",
    "# Important: columns are loaded in order y,z,x!\n",
    "body = np.genfromtxt(filename, delimiter=',', skip_header=1,\n",
    "                     usecols=[1,2,0], names=['y','z','x'])\n",
    "# Sort so that y-coords are increasing\n",
    "body.sort(order=['y','z'])\n",
    "# Convert back to a ndarray\n",
    "oldshape = body.shape\n",
    "body = body.view(np.float64).reshape(oldshape+(-1,))\n",
    "#body = np.loadtxt(filename, delimiter=',', skiprows=1, usecols=[1, 2, 0])\n",
    "body[:, 1] *= vscale\n",
    "body[:, 2] = 0\n",
    "coords_top = body[1::2]\n",
    "coords_bot = body[::2] - vertical_offset\n",
    "coords = np.concatenate((coords_top, coords_bot[::-1]))\n",
    "# Add points\n",
    "points = []\n",
    "lines = []\n",
    "\n",
    "print('> adding points')\n",
    "for row in coords:\n",
    "    points.append(geom.add_point(row, lcar))\n",
    "\n",
    "print('> creating lines')\n",
    "for i in range(len(points)-1):\n",
    "    lines.append(geom.add_line(points[i], points[i+1]))\n",
    "lines.append(geom.add_line(points[-1], points[0]))\n",
    "\n",
    "line_BC_left = lines[-1]\n",
    "#line_id = int(len(lines)/2 - 1)\n",
    "#line_BC_right = lines[line_id]\n",
    "line_BC_right = None\n",
    "\n",
    "if BC == 'upper':\n",
    "    print('> defining upper BC `Top`')\n",
    "    geom.add_physical_line(lines[:coords_top.shape[0]-1], label='Top')\n",
    "elif BC == 'lower':\n",
    "    print('> defining lower BC `Bottom`')\n",
    "    geom.add_physical_line(lines[coords_top.shape[0]:-1], label='Bottom')\n",
    "\n",
    "print('> creating line loops')\n",
    "ll = geom.add_line_loop(lines)\n",
    "\n",
    "print('> creating surface')\n",
    "ps = geom.add_plane_surface(ll)\n",
    "\n",
    "print('> assigning physcial surface name', name)\n",
    "geom.add_physical_surface(ps, label=name)"
   ]
  },
  {
   "cell_type": "code",
   "execution_count": 13,
   "metadata": {},
   "outputs": [],
   "source": [
    "p0=points[0]\n",
    "p1=points[-1]"
   ]
  },
  {
   "cell_type": "code",
   "execution_count": 14,
   "metadata": {},
   "outputs": [
    {
     "data": {
      "text/plain": [
       "array([-3.e+05,  1.e+00,  0.e+00])"
      ]
     },
     "execution_count": 14,
     "metadata": {},
     "output_type": "execute_result"
    }
   ],
   "source": [
    "p0.x"
   ]
  },
  {
   "cell_type": "code",
   "execution_count": 15,
   "metadata": {},
   "outputs": [
    {
     "data": {
      "text/plain": [
       "array([-300000.,   -3397.,       0.])"
      ]
     },
     "execution_count": 15,
     "metadata": {},
     "output_type": "execute_result"
    }
   ],
   "source": [
    "p1.x"
   ]
  },
  {
   "cell_type": "code",
   "execution_count": 16,
   "metadata": {},
   "outputs": [
    {
     "data": {
      "text/plain": [
       "array([   0., 3398.,    0.])"
      ]
     },
     "execution_count": 16,
     "metadata": {},
     "output_type": "execute_result"
    }
   ],
   "source": [
    "p0.x-p1.x"
   ]
  },
  {
   "cell_type": "code",
   "execution_count": 17,
   "metadata": {},
   "outputs": [
    {
     "data": {
      "text/plain": [
       "3398.0"
      ]
     },
     "execution_count": 17,
     "metadata": {},
     "output_type": "execute_result"
    }
   ],
   "source": [
    "np.linalg.norm(p0.x-p1.x)"
   ]
  },
  {
   "cell_type": "code",
   "execution_count": 28,
   "metadata": {},
   "outputs": [],
   "source": [
    "p0, p1 = lines[-1].points"
   ]
  },
  {
   "cell_type": "code",
   "execution_count": null,
   "metadata": {},
   "outputs": [],
   "source": []
  }
 ],
 "metadata": {
  "kernelspec": {
   "display_name": "Python 3",
   "language": "python",
   "name": "python3"
  },
  "language_info": {
   "codemirror_mode": {
    "name": "ipython",
    "version": 3
   },
   "file_extension": ".py",
   "mimetype": "text/x-python",
   "name": "python",
   "nbconvert_exporter": "python",
   "pygments_lexer": "ipython3",
   "version": "3.7.2"
  }
 },
 "nbformat": 4,
 "nbformat_minor": 2
}
